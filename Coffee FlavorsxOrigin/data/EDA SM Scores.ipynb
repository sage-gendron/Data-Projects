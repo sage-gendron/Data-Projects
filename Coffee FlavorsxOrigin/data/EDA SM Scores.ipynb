{
 "cells": [
  {
   "cell_type": "markdown",
   "id": "39a727f6-0c94-45f9-806e-3e63fde03c2e",
   "metadata": {},
   "source": [
    "#### Foreword:\n",
    "The data scraped from Sweet Maria's is interesting because they have radial charts scoring each coffee on a variety of metrics in the 'cupping' and 'flavors' columns. They also attribute an overall score to each coffee to measure coffee quality."
   ]
  },
  {
   "cell_type": "code",
   "execution_count": 2,
   "id": "24366cb2-f740-464a-bfff-90ccf98669d5",
   "metadata": {},
   "outputs": [],
   "source": [
    "import pandas as pd\n",
    "import json\n",
    "data_loc = '/Users/Sage/PycharmProjects/Data-Projects/Coffee FlavorsxOrigin/data/coffee_data.json'"
   ]
  },
  {
   "cell_type": "markdown",
   "id": "c6fc3f64-c75b-4f1c-b3b6-a4c7b33ab5a4",
   "metadata": {},
   "source": [
    "First, we pull the data into a DataFrame and take a look at the shape and how it loaded in."
   ]
  },
  {
   "cell_type": "code",
   "execution_count": 59,
   "id": "b48225d8-d442-462d-9408-68bd45667614",
   "metadata": {},
   "outputs": [],
   "source": [
    "with open(data_loc, 'r') as f:\n",
    "    data = json.load(f)"
   ]
  },
  {
   "cell_type": "code",
   "execution_count": 60,
   "id": "c08d8307-4950-4e17-8064-0045e99233ab",
   "metadata": {},
   "outputs": [
    {
     "data": {
      "text/plain": [
       "(301, 10)"
      ]
     },
     "execution_count": 60,
     "metadata": {},
     "output_type": "execute_result"
    }
   ],
   "source": [
    "data = pd.DataFrame(data).T\n",
    "data.shape"
   ]
  },
  {
   "cell_type": "code",
   "execution_count": 61,
   "id": "586cb518-8160-4a0e-8f3b-38a2ac1d8143",
   "metadata": {},
   "outputs": [
    {
     "data": {
      "text/html": [
       "<div>\n",
       "<style scoped>\n",
       "    .dataframe tbody tr th:only-of-type {\n",
       "        vertical-align: middle;\n",
       "    }\n",
       "\n",
       "    .dataframe tbody tr th {\n",
       "        vertical-align: top;\n",
       "    }\n",
       "\n",
       "    .dataframe thead th {\n",
       "        text-align: right;\n",
       "    }\n",
       "</style>\n",
       "<table border=\"1\" class=\"dataframe\">\n",
       "  <thead>\n",
       "    <tr style=\"text-align: right;\">\n",
       "      <th></th>\n",
       "      <th>cupping</th>\n",
       "      <th>cupping_notes</th>\n",
       "      <th>decaf</th>\n",
       "      <th>description</th>\n",
       "      <th>flavors</th>\n",
       "      <th>link</th>\n",
       "      <th>origin</th>\n",
       "      <th>overall_score</th>\n",
       "      <th>process</th>\n",
       "      <th>site</th>\n",
       "    </tr>\n",
       "  </thead>\n",
       "  <tbody>\n",
       "    <tr>\n",
       "      <th>Brazil Adair Oliveira Neto</th>\n",
       "      <td>{'Body': '8.8', 'Brightness': '8.3', 'Clean Cu...</td>\n",
       "      <td>The single farmer Brazils we bought this year ...</td>\n",
       "      <td>False</td>\n",
       "      <td>Atypical Brazil dry process, pleasant flavors ...</td>\n",
       "      <td>{'Berry': '0', 'Body': '4', 'Caramel': '3', 'C...</td>\n",
       "      <td>https://www.sweetmarias.com/brazil-adair-de-ol...</td>\n",
       "      <td>Brazil</td>\n",
       "      <td>87.3</td>\n",
       "      <td>Dry Process (Natural)</td>\n",
       "      <td>SM</td>\n",
       "    </tr>\n",
       "    <tr>\n",
       "      <th>Brazil Alta Mogiana Bom Jesus</th>\n",
       "      <td>{'Body': '9', 'Brightness': '7.3', 'Clean Cup'...</td>\n",
       "      <td>The dry fragrance shows a pleasant nutty sweet...</td>\n",
       "      <td>False</td>\n",
       "      <td>Bittersweet bass notes flow through cup, accen...</td>\n",
       "      <td>{'Berry': '0', 'Body': '4', 'Caramel': '2.5', ...</td>\n",
       "      <td>https://www.sweetmarias.com/brazil-alta-mogian...</td>\n",
       "      <td>Brazil</td>\n",
       "      <td>85.5</td>\n",
       "      <td>Dry Process (Natural)</td>\n",
       "      <td>SM</td>\n",
       "    </tr>\n",
       "    <tr>\n",
       "      <th>Brazil Alta Mogiana Santo Amaro</th>\n",
       "      <td>{'Body': '8.7', 'Brightness': '8.2', 'Clean Cu...</td>\n",
       "      <td>The dry ground coffee has a scent of roasted p...</td>\n",
       "      <td>False</td>\n",
       "      <td>Rich bittersweetness, umami and savory nut ton...</td>\n",
       "      <td>{'Berry': '0', 'Body': '3.5', 'Caramel': '2', ...</td>\n",
       "      <td>https://www.sweetmarias.com/brazil-alta-mogian...</td>\n",
       "      <td>Brazil</td>\n",
       "      <td>86</td>\n",
       "      <td>Dry Process (Natural)</td>\n",
       "      <td>SM</td>\n",
       "    </tr>\n",
       "    <tr>\n",
       "      <th>Brazil Carmo Fazenda Furnas</th>\n",
       "      <td>{'Body': '9', 'Brightness': '7.5', 'Clean Cup'...</td>\n",
       "      <td>This natural from Fazenda Furnas has subtle fr...</td>\n",
       "      <td>False</td>\n",
       "      <td>Notes of molasses and banana nut breads, barle...</td>\n",
       "      <td>{'Berry': '0', 'Body': '4', 'Caramel': '1', 'C...</td>\n",
       "      <td>https://www.sweetmarias.com/brazil-carmo-fazen...</td>\n",
       "      <td>Brazil</td>\n",
       "      <td>86.5</td>\n",
       "      <td>Dry Process (Natural)</td>\n",
       "      <td>SM</td>\n",
       "    </tr>\n",
       "    <tr>\n",
       "      <th>Brazil Carmo de Minas SWP Decaf</th>\n",
       "      <td>{'Body': '8.8', 'Brightness': '7.2', 'Clean Cu...</td>\n",
       "      <td>The dry fragrance has a sweet almond note, mar...</td>\n",
       "      <td>True</td>\n",
       "      <td>Sipid sweetness of unrefined sugars fades to b...</td>\n",
       "      <td>{'Berry': '0', 'Body': '4', 'Caramel': '2', 'C...</td>\n",
       "      <td>https://www.sweetmarias.com/brazil-carmo-de-mi...</td>\n",
       "      <td>Brazil</td>\n",
       "      <td>86.5</td>\n",
       "      <td>Swiss Water Decaf</td>\n",
       "      <td>SM</td>\n",
       "    </tr>\n",
       "  </tbody>\n",
       "</table>\n",
       "</div>"
      ],
      "text/plain": [
       "                                                                           cupping  \\\n",
       "Brazil Adair Oliveira Neto       {'Body': '8.8', 'Brightness': '8.3', 'Clean Cu...   \n",
       "Brazil Alta Mogiana Bom Jesus    {'Body': '9', 'Brightness': '7.3', 'Clean Cup'...   \n",
       "Brazil Alta Mogiana Santo Amaro  {'Body': '8.7', 'Brightness': '8.2', 'Clean Cu...   \n",
       "Brazil Carmo Fazenda Furnas      {'Body': '9', 'Brightness': '7.5', 'Clean Cup'...   \n",
       "Brazil Carmo de Minas SWP Decaf  {'Body': '8.8', 'Brightness': '7.2', 'Clean Cu...   \n",
       "\n",
       "                                                                     cupping_notes  \\\n",
       "Brazil Adair Oliveira Neto       The single farmer Brazils we bought this year ...   \n",
       "Brazil Alta Mogiana Bom Jesus    The dry fragrance shows a pleasant nutty sweet...   \n",
       "Brazil Alta Mogiana Santo Amaro  The dry ground coffee has a scent of roasted p...   \n",
       "Brazil Carmo Fazenda Furnas      This natural from Fazenda Furnas has subtle fr...   \n",
       "Brazil Carmo de Minas SWP Decaf  The dry fragrance has a sweet almond note, mar...   \n",
       "\n",
       "                                 decaf  \\\n",
       "Brazil Adair Oliveira Neto       False   \n",
       "Brazil Alta Mogiana Bom Jesus    False   \n",
       "Brazil Alta Mogiana Santo Amaro  False   \n",
       "Brazil Carmo Fazenda Furnas      False   \n",
       "Brazil Carmo de Minas SWP Decaf   True   \n",
       "\n",
       "                                                                       description  \\\n",
       "Brazil Adair Oliveira Neto       Atypical Brazil dry process, pleasant flavors ...   \n",
       "Brazil Alta Mogiana Bom Jesus    Bittersweet bass notes flow through cup, accen...   \n",
       "Brazil Alta Mogiana Santo Amaro  Rich bittersweetness, umami and savory nut ton...   \n",
       "Brazil Carmo Fazenda Furnas      Notes of molasses and banana nut breads, barle...   \n",
       "Brazil Carmo de Minas SWP Decaf  Sipid sweetness of unrefined sugars fades to b...   \n",
       "\n",
       "                                                                           flavors  \\\n",
       "Brazil Adair Oliveira Neto       {'Berry': '0', 'Body': '4', 'Caramel': '3', 'C...   \n",
       "Brazil Alta Mogiana Bom Jesus    {'Berry': '0', 'Body': '4', 'Caramel': '2.5', ...   \n",
       "Brazil Alta Mogiana Santo Amaro  {'Berry': '0', 'Body': '3.5', 'Caramel': '2', ...   \n",
       "Brazil Carmo Fazenda Furnas      {'Berry': '0', 'Body': '4', 'Caramel': '1', 'C...   \n",
       "Brazil Carmo de Minas SWP Decaf  {'Berry': '0', 'Body': '4', 'Caramel': '2', 'C...   \n",
       "\n",
       "                                                                              link  \\\n",
       "Brazil Adair Oliveira Neto       https://www.sweetmarias.com/brazil-adair-de-ol...   \n",
       "Brazil Alta Mogiana Bom Jesus    https://www.sweetmarias.com/brazil-alta-mogian...   \n",
       "Brazil Alta Mogiana Santo Amaro  https://www.sweetmarias.com/brazil-alta-mogian...   \n",
       "Brazil Carmo Fazenda Furnas      https://www.sweetmarias.com/brazil-carmo-fazen...   \n",
       "Brazil Carmo de Minas SWP Decaf  https://www.sweetmarias.com/brazil-carmo-de-mi...   \n",
       "\n",
       "                                 origin overall_score                process  \\\n",
       "Brazil Adair Oliveira Neto       Brazil          87.3  Dry Process (Natural)   \n",
       "Brazil Alta Mogiana Bom Jesus    Brazil          85.5  Dry Process (Natural)   \n",
       "Brazil Alta Mogiana Santo Amaro  Brazil            86  Dry Process (Natural)   \n",
       "Brazil Carmo Fazenda Furnas      Brazil          86.5  Dry Process (Natural)   \n",
       "Brazil Carmo de Minas SWP Decaf  Brazil          86.5      Swiss Water Decaf   \n",
       "\n",
       "                                site  \n",
       "Brazil Adair Oliveira Neto        SM  \n",
       "Brazil Alta Mogiana Bom Jesus     SM  \n",
       "Brazil Alta Mogiana Santo Amaro   SM  \n",
       "Brazil Carmo Fazenda Furnas       SM  \n",
       "Brazil Carmo de Minas SWP Decaf   SM  "
      ]
     },
     "execution_count": 61,
     "metadata": {},
     "output_type": "execute_result"
    }
   ],
   "source": [
    "data.head()"
   ]
  },
  {
   "cell_type": "markdown",
   "id": "08529950-bfff-4f8e-bc22-07757b461d32",
   "metadata": {},
   "source": [
    "Change the index column to a numerical index and create a name column."
   ]
  },
  {
   "cell_type": "code",
   "execution_count": 62,
   "id": "7306374c-1da5-439d-9f76-7c508e232dfc",
   "metadata": {},
   "outputs": [
    {
     "data": {
      "text/html": [
       "<div>\n",
       "<style scoped>\n",
       "    .dataframe tbody tr th:only-of-type {\n",
       "        vertical-align: middle;\n",
       "    }\n",
       "\n",
       "    .dataframe tbody tr th {\n",
       "        vertical-align: top;\n",
       "    }\n",
       "\n",
       "    .dataframe thead th {\n",
       "        text-align: right;\n",
       "    }\n",
       "</style>\n",
       "<table border=\"1\" class=\"dataframe\">\n",
       "  <thead>\n",
       "    <tr style=\"text-align: right;\">\n",
       "      <th></th>\n",
       "      <th>name</th>\n",
       "      <th>cupping</th>\n",
       "      <th>cupping_notes</th>\n",
       "      <th>decaf</th>\n",
       "      <th>description</th>\n",
       "      <th>flavors</th>\n",
       "      <th>link</th>\n",
       "      <th>origin</th>\n",
       "      <th>overall_score</th>\n",
       "      <th>process</th>\n",
       "      <th>site</th>\n",
       "    </tr>\n",
       "  </thead>\n",
       "  <tbody>\n",
       "    <tr>\n",
       "      <th>0</th>\n",
       "      <td>Brazil Adair Oliveira Neto</td>\n",
       "      <td>{'Body': '8.8', 'Brightness': '8.3', 'Clean Cu...</td>\n",
       "      <td>The single farmer Brazils we bought this year ...</td>\n",
       "      <td>False</td>\n",
       "      <td>Atypical Brazil dry process, pleasant flavors ...</td>\n",
       "      <td>{'Berry': '0', 'Body': '4', 'Caramel': '3', 'C...</td>\n",
       "      <td>https://www.sweetmarias.com/brazil-adair-de-ol...</td>\n",
       "      <td>Brazil</td>\n",
       "      <td>87.3</td>\n",
       "      <td>Dry Process (Natural)</td>\n",
       "      <td>SM</td>\n",
       "    </tr>\n",
       "    <tr>\n",
       "      <th>1</th>\n",
       "      <td>Brazil Alta Mogiana Bom Jesus</td>\n",
       "      <td>{'Body': '9', 'Brightness': '7.3', 'Clean Cup'...</td>\n",
       "      <td>The dry fragrance shows a pleasant nutty sweet...</td>\n",
       "      <td>False</td>\n",
       "      <td>Bittersweet bass notes flow through cup, accen...</td>\n",
       "      <td>{'Berry': '0', 'Body': '4', 'Caramel': '2.5', ...</td>\n",
       "      <td>https://www.sweetmarias.com/brazil-alta-mogian...</td>\n",
       "      <td>Brazil</td>\n",
       "      <td>85.5</td>\n",
       "      <td>Dry Process (Natural)</td>\n",
       "      <td>SM</td>\n",
       "    </tr>\n",
       "    <tr>\n",
       "      <th>2</th>\n",
       "      <td>Brazil Alta Mogiana Santo Amaro</td>\n",
       "      <td>{'Body': '8.7', 'Brightness': '8.2', 'Clean Cu...</td>\n",
       "      <td>The dry ground coffee has a scent of roasted p...</td>\n",
       "      <td>False</td>\n",
       "      <td>Rich bittersweetness, umami and savory nut ton...</td>\n",
       "      <td>{'Berry': '0', 'Body': '3.5', 'Caramel': '2', ...</td>\n",
       "      <td>https://www.sweetmarias.com/brazil-alta-mogian...</td>\n",
       "      <td>Brazil</td>\n",
       "      <td>86</td>\n",
       "      <td>Dry Process (Natural)</td>\n",
       "      <td>SM</td>\n",
       "    </tr>\n",
       "    <tr>\n",
       "      <th>3</th>\n",
       "      <td>Brazil Carmo Fazenda Furnas</td>\n",
       "      <td>{'Body': '9', 'Brightness': '7.5', 'Clean Cup'...</td>\n",
       "      <td>This natural from Fazenda Furnas has subtle fr...</td>\n",
       "      <td>False</td>\n",
       "      <td>Notes of molasses and banana nut breads, barle...</td>\n",
       "      <td>{'Berry': '0', 'Body': '4', 'Caramel': '1', 'C...</td>\n",
       "      <td>https://www.sweetmarias.com/brazil-carmo-fazen...</td>\n",
       "      <td>Brazil</td>\n",
       "      <td>86.5</td>\n",
       "      <td>Dry Process (Natural)</td>\n",
       "      <td>SM</td>\n",
       "    </tr>\n",
       "    <tr>\n",
       "      <th>4</th>\n",
       "      <td>Brazil Carmo de Minas SWP Decaf</td>\n",
       "      <td>{'Body': '8.8', 'Brightness': '7.2', 'Clean Cu...</td>\n",
       "      <td>The dry fragrance has a sweet almond note, mar...</td>\n",
       "      <td>True</td>\n",
       "      <td>Sipid sweetness of unrefined sugars fades to b...</td>\n",
       "      <td>{'Berry': '0', 'Body': '4', 'Caramel': '2', 'C...</td>\n",
       "      <td>https://www.sweetmarias.com/brazil-carmo-de-mi...</td>\n",
       "      <td>Brazil</td>\n",
       "      <td>86.5</td>\n",
       "      <td>Swiss Water Decaf</td>\n",
       "      <td>SM</td>\n",
       "    </tr>\n",
       "  </tbody>\n",
       "</table>\n",
       "</div>"
      ],
      "text/plain": [
       "                              name  \\\n",
       "0       Brazil Adair Oliveira Neto   \n",
       "1    Brazil Alta Mogiana Bom Jesus   \n",
       "2  Brazil Alta Mogiana Santo Amaro   \n",
       "3      Brazil Carmo Fazenda Furnas   \n",
       "4  Brazil Carmo de Minas SWP Decaf   \n",
       "\n",
       "                                             cupping  \\\n",
       "0  {'Body': '8.8', 'Brightness': '8.3', 'Clean Cu...   \n",
       "1  {'Body': '9', 'Brightness': '7.3', 'Clean Cup'...   \n",
       "2  {'Body': '8.7', 'Brightness': '8.2', 'Clean Cu...   \n",
       "3  {'Body': '9', 'Brightness': '7.5', 'Clean Cup'...   \n",
       "4  {'Body': '8.8', 'Brightness': '7.2', 'Clean Cu...   \n",
       "\n",
       "                                       cupping_notes  decaf  \\\n",
       "0  The single farmer Brazils we bought this year ...  False   \n",
       "1  The dry fragrance shows a pleasant nutty sweet...  False   \n",
       "2  The dry ground coffee has a scent of roasted p...  False   \n",
       "3  This natural from Fazenda Furnas has subtle fr...  False   \n",
       "4  The dry fragrance has a sweet almond note, mar...   True   \n",
       "\n",
       "                                         description  \\\n",
       "0  Atypical Brazil dry process, pleasant flavors ...   \n",
       "1  Bittersweet bass notes flow through cup, accen...   \n",
       "2  Rich bittersweetness, umami and savory nut ton...   \n",
       "3  Notes of molasses and banana nut breads, barle...   \n",
       "4  Sipid sweetness of unrefined sugars fades to b...   \n",
       "\n",
       "                                             flavors  \\\n",
       "0  {'Berry': '0', 'Body': '4', 'Caramel': '3', 'C...   \n",
       "1  {'Berry': '0', 'Body': '4', 'Caramel': '2.5', ...   \n",
       "2  {'Berry': '0', 'Body': '3.5', 'Caramel': '2', ...   \n",
       "3  {'Berry': '0', 'Body': '4', 'Caramel': '1', 'C...   \n",
       "4  {'Berry': '0', 'Body': '4', 'Caramel': '2', 'C...   \n",
       "\n",
       "                                                link  origin overall_score  \\\n",
       "0  https://www.sweetmarias.com/brazil-adair-de-ol...  Brazil          87.3   \n",
       "1  https://www.sweetmarias.com/brazil-alta-mogian...  Brazil          85.5   \n",
       "2  https://www.sweetmarias.com/brazil-alta-mogian...  Brazil            86   \n",
       "3  https://www.sweetmarias.com/brazil-carmo-fazen...  Brazil          86.5   \n",
       "4  https://www.sweetmarias.com/brazil-carmo-de-mi...  Brazil          86.5   \n",
       "\n",
       "                 process site  \n",
       "0  Dry Process (Natural)   SM  \n",
       "1  Dry Process (Natural)   SM  \n",
       "2  Dry Process (Natural)   SM  \n",
       "3  Dry Process (Natural)   SM  \n",
       "4      Swiss Water Decaf   SM  "
      ]
     },
     "execution_count": 62,
     "metadata": {},
     "output_type": "execute_result"
    }
   ],
   "source": [
    "data = data.reset_index().rename(columns={'index': 'name'})\n",
    "data.head()"
   ]
  },
  {
   "cell_type": "markdown",
   "id": "ac4e3939-c0a3-4bf7-a538-b5926f2fc505",
   "metadata": {},
   "source": [
    "Next is to take a look at datatypes"
   ]
  },
  {
   "cell_type": "code",
   "execution_count": 65,
   "id": "8273db11-d553-453c-ab6c-931163a5480b",
   "metadata": {},
   "outputs": [
    {
     "data": {
      "text/plain": [
       "name              object\n",
       "cupping           object\n",
       "cupping_notes     object\n",
       "decaf               bool\n",
       "description       object\n",
       "flavors           object\n",
       "link              object\n",
       "origin            object\n",
       "overall_score    float64\n",
       "process           object\n",
       "site              object\n",
       "dtype: object"
      ]
     },
     "execution_count": 65,
     "metadata": {},
     "output_type": "execute_result"
    }
   ],
   "source": [
    "data.dtypes"
   ]
  },
  {
   "cell_type": "code",
   "execution_count": 63,
   "id": "ab936610-1a79-46cc-af48-6af469595c53",
   "metadata": {},
   "outputs": [],
   "source": [
    "data = data.astype({'decaf': bool, 'overall_score': float})"
   ]
  },
  {
   "cell_type": "code",
   "execution_count": 64,
   "id": "5e5162f9-48d1-479a-84b2-f96a574a1504",
   "metadata": {},
   "outputs": [
    {
     "data": {
      "text/plain": [
       "name              object\n",
       "cupping           object\n",
       "cupping_notes     object\n",
       "decaf               bool\n",
       "description       object\n",
       "flavors           object\n",
       "link              object\n",
       "origin            object\n",
       "overall_score    float64\n",
       "process           object\n",
       "site              object\n",
       "dtype: object"
      ]
     },
     "execution_count": 64,
     "metadata": {},
     "output_type": "execute_result"
    }
   ],
   "source": [
    "data.dtypes"
   ]
  },
  {
   "cell_type": "code",
   "execution_count": 70,
   "id": "3adce6c4-a1d8-4ac7-943e-3b1ef2873dde",
   "metadata": {},
   "outputs": [
    {
     "name": "stdout",
     "output_type": "stream",
     "text": [
      "\n",
      "Overall score stats:\n",
      "min: 82.6\n",
      "mean: 88.24099999999994\n",
      "median: 87.5\n",
      "max: 93.1\n",
      "std: 1.9700989737967936\n",
      "var: 3.881289966555179\n",
      "\n"
     ]
    }
   ],
   "source": [
    "score = data['overall_score']\n",
    "print(f\"\"\"\n",
    "Overall score stats:\n",
    "min: {score.min()}\n",
    "mean: {score.mean()}\n",
    "median: {score.median()}\n",
    "max: {score.max()}\n",
    "std: {score.std()}\n",
    "var: {score.var()}\n",
    "\"\"\")"
   ]
  },
  {
   "cell_type": "markdown",
   "id": "dd27ae4e-8327-4f6e-8d73-a3f01bc0571d",
   "metadata": {},
   "source": [
    "Of course, coffee quality past formal coffee grading is quite subjective. \n",
    "The low variance in scores is still a bit surprising, so let's take a look at the cupping and flavor sub-documents to be able to get a better idea of what each coffee is like."
   ]
  },
  {
   "cell_type": "code",
   "execution_count": null,
   "id": "445d73d9-c226-4215-8677-cf03bf6f4bd4",
   "metadata": {},
   "outputs": [],
   "source": []
  }
 ],
 "metadata": {
  "kernelspec": {
   "display_name": "Python 3 (ipykernel)",
   "language": "python",
   "name": "python3"
  },
  "language_info": {
   "codemirror_mode": {
    "name": "ipython",
    "version": 3
   },
   "file_extension": ".py",
   "mimetype": "text/x-python",
   "name": "python",
   "nbconvert_exporter": "python",
   "pygments_lexer": "ipython3",
   "version": "3.8.1"
  }
 },
 "nbformat": 4,
 "nbformat_minor": 5
}

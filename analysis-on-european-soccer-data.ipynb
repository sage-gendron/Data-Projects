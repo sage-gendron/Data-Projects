{
 "cells": [
  {
   "cell_type": "code",
   "execution_count": 1,
   "id": "a8e19a1e",
   "metadata": {
    "_cell_guid": "b1076dfc-b9ad-4769-8c92-a6c4dae69d19",
    "_uuid": "8f2839f25d086af736a60e9eeb907d3b93b6e0e5",
    "execution": {
     "iopub.execute_input": "2022-11-07T00:10:13.854974Z",
     "iopub.status.busy": "2022-11-07T00:10:13.853924Z",
     "iopub.status.idle": "2022-11-07T00:10:15.418952Z",
     "shell.execute_reply": "2022-11-07T00:10:15.417525Z"
    },
    "papermill": {
     "duration": 1.578221,
     "end_time": "2022-11-07T00:10:15.422734",
     "exception": false,
     "start_time": "2022-11-07T00:10:13.844513",
     "status": "completed"
    },
    "tags": []
   },
   "outputs": [],
   "source": [
    "import numpy as np # linear algebra\n",
    "import pandas as pd # data processing, CSV file I/O (e.g. pd.read_csv)\n",
    "import seaborn as sns\n",
    "\n",
    "# Read in the dataset\n",
    "df = pd.read_csv('/kaggle/input/european-soccer-data/Full_Kaggle_Dataset.csv')"
   ]
  },
  {
   "cell_type": "code",
   "execution_count": 2,
   "id": "870106d2",
   "metadata": {
    "execution": {
     "iopub.execute_input": "2022-11-07T00:10:15.432857Z",
     "iopub.status.busy": "2022-11-07T00:10:15.432366Z",
     "iopub.status.idle": "2022-11-07T00:10:15.467952Z",
     "shell.execute_reply": "2022-11-07T00:10:15.466865Z"
    },
    "papermill": {
     "duration": 0.04659,
     "end_time": "2022-11-07T00:10:15.473299",
     "exception": false,
     "start_time": "2022-11-07T00:10:15.426709",
     "status": "completed"
    },
    "tags": []
   },
   "outputs": [
    {
     "name": "stdout",
     "output_type": "stream",
     "text": [
      "(51402, 16)\n"
     ]
    },
    {
     "data": {
      "text/html": [
       "<div>\n",
       "<style scoped>\n",
       "    .dataframe tbody tr th:only-of-type {\n",
       "        vertical-align: middle;\n",
       "    }\n",
       "\n",
       "    .dataframe tbody tr th {\n",
       "        vertical-align: top;\n",
       "    }\n",
       "\n",
       "    .dataframe thead th {\n",
       "        text-align: right;\n",
       "    }\n",
       "</style>\n",
       "<table border=\"1\" class=\"dataframe\">\n",
       "  <thead>\n",
       "    <tr style=\"text-align: right;\">\n",
       "      <th></th>\n",
       "      <th>Round</th>\n",
       "      <th>Date</th>\n",
       "      <th>Time</th>\n",
       "      <th>Home_Team</th>\n",
       "      <th>Home_Score</th>\n",
       "      <th>Away_Score</th>\n",
       "      <th>Away_Team</th>\n",
       "      <th>Home_Score_AET</th>\n",
       "      <th>Away_Score_AET</th>\n",
       "      <th>Home_Penalties</th>\n",
       "      <th>Away_Penalties</th>\n",
       "      <th>Home_Points</th>\n",
       "      <th>Away_Points</th>\n",
       "      <th>season</th>\n",
       "      <th>Country</th>\n",
       "      <th>Competition</th>\n",
       "    </tr>\n",
       "  </thead>\n",
       "  <tbody>\n",
       "    <tr>\n",
       "      <th>0</th>\n",
       "      <td>ROUND 1</td>\n",
       "      <td>31/08/2002</td>\n",
       "      <td>22:30</td>\n",
       "      <td>RACING SANTANDER</td>\n",
       "      <td>0.0</td>\n",
       "      <td>1.0</td>\n",
       "      <td>VALLADOLID</td>\n",
       "      <td>NaN</td>\n",
       "      <td>NaN</td>\n",
       "      <td>NaN</td>\n",
       "      <td>NaN</td>\n",
       "      <td>0.0</td>\n",
       "      <td>3.0</td>\n",
       "      <td>2002</td>\n",
       "      <td>spain</td>\n",
       "      <td>primera-division</td>\n",
       "    </tr>\n",
       "    <tr>\n",
       "      <th>1</th>\n",
       "      <td>ROUND 1</td>\n",
       "      <td>01/09/2002</td>\n",
       "      <td>21:00</td>\n",
       "      <td>RAYO VALLECANO</td>\n",
       "      <td>2.0</td>\n",
       "      <td>2.0</td>\n",
       "      <td>ALAVES</td>\n",
       "      <td>NaN</td>\n",
       "      <td>NaN</td>\n",
       "      <td>NaN</td>\n",
       "      <td>NaN</td>\n",
       "      <td>1.0</td>\n",
       "      <td>1.0</td>\n",
       "      <td>2002</td>\n",
       "      <td>spain</td>\n",
       "      <td>primera-division</td>\n",
       "    </tr>\n",
       "    <tr>\n",
       "      <th>2</th>\n",
       "      <td>ROUND 1</td>\n",
       "      <td>01/09/2002</td>\n",
       "      <td>21:00</td>\n",
       "      <td>REAL SOCIEDAD</td>\n",
       "      <td>4.0</td>\n",
       "      <td>2.0</td>\n",
       "      <td>ATHLETIC BILBAO</td>\n",
       "      <td>NaN</td>\n",
       "      <td>NaN</td>\n",
       "      <td>NaN</td>\n",
       "      <td>NaN</td>\n",
       "      <td>3.0</td>\n",
       "      <td>0.0</td>\n",
       "      <td>2002</td>\n",
       "      <td>spain</td>\n",
       "      <td>primera-division</td>\n",
       "    </tr>\n",
       "    <tr>\n",
       "      <th>3</th>\n",
       "      <td>ROUND 1</td>\n",
       "      <td>01/09/2002</td>\n",
       "      <td>22:00</td>\n",
       "      <td>MALLORCA</td>\n",
       "      <td>0.0</td>\n",
       "      <td>2.0</td>\n",
       "      <td>VALENCIA</td>\n",
       "      <td>NaN</td>\n",
       "      <td>NaN</td>\n",
       "      <td>NaN</td>\n",
       "      <td>NaN</td>\n",
       "      <td>0.0</td>\n",
       "      <td>3.0</td>\n",
       "      <td>2002</td>\n",
       "      <td>spain</td>\n",
       "      <td>primera-division</td>\n",
       "    </tr>\n",
       "    <tr>\n",
       "      <th>4</th>\n",
       "      <td>ROUND 1</td>\n",
       "      <td>01/09/2002</td>\n",
       "      <td>22:30</td>\n",
       "      <td>VILLARREAL</td>\n",
       "      <td>2.0</td>\n",
       "      <td>2.0</td>\n",
       "      <td>OSASUNA</td>\n",
       "      <td>NaN</td>\n",
       "      <td>NaN</td>\n",
       "      <td>NaN</td>\n",
       "      <td>NaN</td>\n",
       "      <td>1.0</td>\n",
       "      <td>1.0</td>\n",
       "      <td>2002</td>\n",
       "      <td>spain</td>\n",
       "      <td>primera-division</td>\n",
       "    </tr>\n",
       "  </tbody>\n",
       "</table>\n",
       "</div>"
      ],
      "text/plain": [
       "     Round        Date   Time         Home_Team  Home_Score  Away_Score  \\\n",
       "0  ROUND 1  31/08/2002  22:30  RACING SANTANDER         0.0         1.0   \n",
       "1  ROUND 1  01/09/2002  21:00    RAYO VALLECANO         2.0         2.0   \n",
       "2  ROUND 1  01/09/2002  21:00     REAL SOCIEDAD         4.0         2.0   \n",
       "3  ROUND 1  01/09/2002  22:00          MALLORCA         0.0         2.0   \n",
       "4  ROUND 1  01/09/2002  22:30        VILLARREAL         2.0         2.0   \n",
       "\n",
       "         Away_Team  Home_Score_AET  Away_Score_AET  Home_Penalties  \\\n",
       "0       VALLADOLID             NaN             NaN             NaN   \n",
       "1           ALAVES             NaN             NaN             NaN   \n",
       "2  ATHLETIC BILBAO             NaN             NaN             NaN   \n",
       "3         VALENCIA             NaN             NaN             NaN   \n",
       "4          OSASUNA             NaN             NaN             NaN   \n",
       "\n",
       "   Away_Penalties  Home_Points  Away_Points  season Country       Competition  \n",
       "0             NaN          0.0          3.0    2002   spain  primera-division  \n",
       "1             NaN          1.0          1.0    2002   spain  primera-division  \n",
       "2             NaN          3.0          0.0    2002   spain  primera-division  \n",
       "3             NaN          0.0          3.0    2002   spain  primera-division  \n",
       "4             NaN          1.0          1.0    2002   spain  primera-division  "
      ]
     },
     "execution_count": 2,
     "metadata": {},
     "output_type": "execute_result"
    }
   ],
   "source": [
    "# Take a look at the shape and variables contained in the dataset\n",
    "print(df.shape)\n",
    "df.head()"
   ]
  },
  {
   "cell_type": "code",
   "execution_count": 3,
   "id": "c4cbe46b",
   "metadata": {
    "execution": {
     "iopub.execute_input": "2022-11-07T00:10:15.484023Z",
     "iopub.status.busy": "2022-11-07T00:10:15.483212Z",
     "iopub.status.idle": "2022-11-07T00:10:15.502845Z",
     "shell.execute_reply": "2022-11-07T00:10:15.501493Z"
    },
    "papermill": {
     "duration": 0.028695,
     "end_time": "2022-11-07T00:10:15.505986",
     "exception": false,
     "start_time": "2022-11-07T00:10:15.477291",
     "status": "completed"
    },
    "tags": []
   },
   "outputs": [
    {
     "data": {
      "text/plain": [
       "array(['primera-division', 'premier-league', 'bundesliga', 'ligue-1',\n",
       "       'serie-a', 'uefa-champions-league', 'uefa-europa-league', 'fa-cup'],\n",
       "      dtype=object)"
      ]
     },
     "execution_count": 3,
     "metadata": {},
     "output_type": "execute_result"
    }
   ],
   "source": [
    "df['Competition'].unique()"
   ]
  },
  {
   "cell_type": "code",
   "execution_count": 4,
   "id": "bba383a8",
   "metadata": {
    "execution": {
     "iopub.execute_input": "2022-11-07T00:10:15.516800Z",
     "iopub.status.busy": "2022-11-07T00:10:15.516328Z",
     "iopub.status.idle": "2022-11-07T00:10:15.554862Z",
     "shell.execute_reply": "2022-11-07T00:10:15.553174Z"
    },
    "papermill": {
     "duration": 0.04754,
     "end_time": "2022-11-07T00:10:15.557759",
     "exception": false,
     "start_time": "2022-11-07T00:10:15.510219",
     "status": "completed"
    },
    "tags": []
   },
   "outputs": [
    {
     "data": {
      "text/html": [
       "<div>\n",
       "<style scoped>\n",
       "    .dataframe tbody tr th:only-of-type {\n",
       "        vertical-align: middle;\n",
       "    }\n",
       "\n",
       "    .dataframe tbody tr th {\n",
       "        vertical-align: top;\n",
       "    }\n",
       "\n",
       "    .dataframe thead th {\n",
       "        text-align: right;\n",
       "    }\n",
       "</style>\n",
       "<table border=\"1\" class=\"dataframe\">\n",
       "  <thead>\n",
       "    <tr style=\"text-align: right;\">\n",
       "      <th></th>\n",
       "      <th>Round</th>\n",
       "      <th>Date</th>\n",
       "      <th>Time</th>\n",
       "      <th>Home_Team</th>\n",
       "      <th>Home_Score</th>\n",
       "      <th>Away_Score</th>\n",
       "      <th>Away_Team</th>\n",
       "      <th>Home_Score_AET</th>\n",
       "      <th>Away_Score_AET</th>\n",
       "      <th>Home_Penalties</th>\n",
       "      <th>Away_Penalties</th>\n",
       "      <th>Home_Points</th>\n",
       "      <th>Away_Points</th>\n",
       "      <th>season</th>\n",
       "      <th>Country</th>\n",
       "      <th>Competition</th>\n",
       "    </tr>\n",
       "  </thead>\n",
       "  <tbody>\n",
       "    <tr>\n",
       "      <th>7680</th>\n",
       "      <td>ROUND 1</td>\n",
       "      <td>17/08/2002</td>\n",
       "      <td>18:00</td>\n",
       "      <td>MANCHESTER UTD</td>\n",
       "      <td>1.0</td>\n",
       "      <td>0.0</td>\n",
       "      <td>WEST BROM</td>\n",
       "      <td>NaN</td>\n",
       "      <td>NaN</td>\n",
       "      <td>NaN</td>\n",
       "      <td>NaN</td>\n",
       "      <td>3.0</td>\n",
       "      <td>0.0</td>\n",
       "      <td>2002</td>\n",
       "      <td>england</td>\n",
       "      <td>premier-league</td>\n",
       "    </tr>\n",
       "    <tr>\n",
       "      <th>7681</th>\n",
       "      <td>ROUND 1</td>\n",
       "      <td>17/08/2002</td>\n",
       "      <td>18:00</td>\n",
       "      <td>LEEDS</td>\n",
       "      <td>3.0</td>\n",
       "      <td>0.0</td>\n",
       "      <td>MANCHESTER CITY</td>\n",
       "      <td>NaN</td>\n",
       "      <td>NaN</td>\n",
       "      <td>NaN</td>\n",
       "      <td>NaN</td>\n",
       "      <td>3.0</td>\n",
       "      <td>0.0</td>\n",
       "      <td>2002</td>\n",
       "      <td>england</td>\n",
       "      <td>premier-league</td>\n",
       "    </tr>\n",
       "    <tr>\n",
       "      <th>7682</th>\n",
       "      <td>ROUND 1</td>\n",
       "      <td>17/08/2002</td>\n",
       "      <td>18:00</td>\n",
       "      <td>SOUTHAMPTON</td>\n",
       "      <td>0.0</td>\n",
       "      <td>0.0</td>\n",
       "      <td>MIDDLESBROUGH</td>\n",
       "      <td>NaN</td>\n",
       "      <td>NaN</td>\n",
       "      <td>NaN</td>\n",
       "      <td>NaN</td>\n",
       "      <td>1.0</td>\n",
       "      <td>1.0</td>\n",
       "      <td>2002</td>\n",
       "      <td>england</td>\n",
       "      <td>premier-league</td>\n",
       "    </tr>\n",
       "    <tr>\n",
       "      <th>7683</th>\n",
       "      <td>ROUND 1</td>\n",
       "      <td>17/08/2002</td>\n",
       "      <td>18:00</td>\n",
       "      <td>FULHAM</td>\n",
       "      <td>4.0</td>\n",
       "      <td>1.0</td>\n",
       "      <td>BOLTON</td>\n",
       "      <td>NaN</td>\n",
       "      <td>NaN</td>\n",
       "      <td>NaN</td>\n",
       "      <td>NaN</td>\n",
       "      <td>3.0</td>\n",
       "      <td>0.0</td>\n",
       "      <td>2002</td>\n",
       "      <td>england</td>\n",
       "      <td>premier-league</td>\n",
       "    </tr>\n",
       "    <tr>\n",
       "      <th>7684</th>\n",
       "      <td>ROUND 1</td>\n",
       "      <td>17/08/2002</td>\n",
       "      <td>18:00</td>\n",
       "      <td>EVERTON</td>\n",
       "      <td>2.0</td>\n",
       "      <td>2.0</td>\n",
       "      <td>TOTTENHAM</td>\n",
       "      <td>NaN</td>\n",
       "      <td>NaN</td>\n",
       "      <td>NaN</td>\n",
       "      <td>NaN</td>\n",
       "      <td>1.0</td>\n",
       "      <td>1.0</td>\n",
       "      <td>2002</td>\n",
       "      <td>england</td>\n",
       "      <td>premier-league</td>\n",
       "    </tr>\n",
       "  </tbody>\n",
       "</table>\n",
       "</div>"
      ],
      "text/plain": [
       "        Round        Date   Time       Home_Team  Home_Score  Away_Score  \\\n",
       "7680  ROUND 1  17/08/2002  18:00  MANCHESTER UTD         1.0         0.0   \n",
       "7681  ROUND 1  17/08/2002  18:00           LEEDS         3.0         0.0   \n",
       "7682  ROUND 1  17/08/2002  18:00     SOUTHAMPTON         0.0         0.0   \n",
       "7683  ROUND 1  17/08/2002  18:00          FULHAM         4.0         1.0   \n",
       "7684  ROUND 1  17/08/2002  18:00         EVERTON         2.0         2.0   \n",
       "\n",
       "            Away_Team  Home_Score_AET  Away_Score_AET  Home_Penalties  \\\n",
       "7680        WEST BROM             NaN             NaN             NaN   \n",
       "7681  MANCHESTER CITY             NaN             NaN             NaN   \n",
       "7682    MIDDLESBROUGH             NaN             NaN             NaN   \n",
       "7683           BOLTON             NaN             NaN             NaN   \n",
       "7684        TOTTENHAM             NaN             NaN             NaN   \n",
       "\n",
       "      Away_Penalties  Home_Points  Away_Points  season  Country  \\\n",
       "7680             NaN          3.0          0.0    2002  england   \n",
       "7681             NaN          3.0          0.0    2002  england   \n",
       "7682             NaN          1.0          1.0    2002  england   \n",
       "7683             NaN          3.0          0.0    2002  england   \n",
       "7684             NaN          1.0          1.0    2002  england   \n",
       "\n",
       "         Competition  \n",
       "7680  premier-league  \n",
       "7681  premier-league  \n",
       "7682  premier-league  \n",
       "7683  premier-league  \n",
       "7684  premier-league  "
      ]
     },
     "execution_count": 4,
     "metadata": {},
     "output_type": "execute_result"
    }
   ],
   "source": [
    "# Create a dataset to only look at matches played in England\n",
    "df_eng = df[df['Country'] == 'england']\n",
    "df_eng.head()"
   ]
  },
  {
   "cell_type": "code",
   "execution_count": 5,
   "id": "ef96a954",
   "metadata": {
    "execution": {
     "iopub.execute_input": "2022-11-07T00:10:15.569764Z",
     "iopub.status.busy": "2022-11-07T00:10:15.568610Z",
     "iopub.status.idle": "2022-11-07T00:10:15.581037Z",
     "shell.execute_reply": "2022-11-07T00:10:15.579356Z"
    },
    "papermill": {
     "duration": 0.021782,
     "end_time": "2022-11-07T00:10:15.584120",
     "exception": false,
     "start_time": "2022-11-07T00:10:15.562338",
     "status": "completed"
    },
    "tags": []
   },
   "outputs": [
    {
     "data": {
      "text/plain": [
       "array(['premier-league', 'fa-cup'], dtype=object)"
      ]
     },
     "execution_count": 5,
     "metadata": {},
     "output_type": "execute_result"
    }
   ],
   "source": [
    "df_eng['Competition'].unique()"
   ]
  },
  {
   "cell_type": "code",
   "execution_count": 6,
   "id": "50efb068",
   "metadata": {
    "execution": {
     "iopub.execute_input": "2022-11-07T00:10:15.595348Z",
     "iopub.status.busy": "2022-11-07T00:10:15.594883Z",
     "iopub.status.idle": "2022-11-07T00:10:15.602741Z",
     "shell.execute_reply": "2022-11-07T00:10:15.601705Z"
    },
    "papermill": {
     "duration": 0.017085,
     "end_time": "2022-11-07T00:10:15.605782",
     "exception": false,
     "start_time": "2022-11-07T00:10:15.588697",
     "status": "completed"
    },
    "tags": []
   },
   "outputs": [
    {
     "name": "stdout",
     "output_type": "stream",
     "text": [
      "['MANCHESTER UTD' 'LEEDS' 'SOUTHAMPTON' 'FULHAM' 'EVERTON']\n"
     ]
    }
   ],
   "source": [
    "# To retrieve a list of English teams present in the dataset, we should only need to pull unique values out of one of the Home_Team and Away_Team Series\n",
    "eng_teams = df_eng['Home_Team'].unique()\n",
    "print(eng_teams[:5])"
   ]
  },
  {
   "cell_type": "code",
   "execution_count": 7,
   "id": "36c83a43",
   "metadata": {
    "execution": {
     "iopub.execute_input": "2022-11-07T00:10:15.617100Z",
     "iopub.status.busy": "2022-11-07T00:10:15.616598Z",
     "iopub.status.idle": "2022-11-07T00:10:15.626573Z",
     "shell.execute_reply": "2022-11-07T00:10:15.625244Z"
    },
    "papermill": {
     "duration": 0.019879,
     "end_time": "2022-11-07T00:10:15.630369",
     "exception": false,
     "start_time": "2022-11-07T00:10:15.610490",
     "status": "completed"
    },
    "tags": []
   },
   "outputs": [
    {
     "data": {
      "text/plain": [
       "Round              object\n",
       "Date               object\n",
       "Time               object\n",
       "Home_Team          object\n",
       "Home_Score        float64\n",
       "Away_Score        float64\n",
       "Away_Team          object\n",
       "Home_Score_AET    float64\n",
       "Away_Score_AET    float64\n",
       "Home_Penalties    float64\n",
       "Away_Penalties    float64\n",
       "Home_Points       float64\n",
       "Away_Points       float64\n",
       "season              int64\n",
       "Country            object\n",
       "Competition        object\n",
       "dtype: object"
      ]
     },
     "execution_count": 7,
     "metadata": {},
     "output_type": "execute_result"
    }
   ],
   "source": [
    "df_eng.dtypes"
   ]
  },
  {
   "cell_type": "code",
   "execution_count": 8,
   "id": "79096c27",
   "metadata": {
    "execution": {
     "iopub.execute_input": "2022-11-07T00:10:15.642587Z",
     "iopub.status.busy": "2022-11-07T00:10:15.642101Z",
     "iopub.status.idle": "2022-11-07T00:10:15.674421Z",
     "shell.execute_reply": "2022-11-07T00:10:15.672868Z"
    },
    "papermill": {
     "duration": 0.041798,
     "end_time": "2022-11-07T00:10:15.677743",
     "exception": false,
     "start_time": "2022-11-07T00:10:15.635945",
     "status": "completed"
    },
    "tags": []
   },
   "outputs": [
    {
     "data": {
      "text/plain": [
       "Round             string\n",
       "Date              string\n",
       "Time              string\n",
       "Home_Team         string\n",
       "Home_Score         Int64\n",
       "Away_Score         Int64\n",
       "Away_Team         string\n",
       "Home_Score_AET     Int64\n",
       "Away_Score_AET     Int64\n",
       "Home_Penalties     Int64\n",
       "Away_Penalties     Int64\n",
       "Home_Points        Int64\n",
       "Away_Points        Int64\n",
       "season             Int64\n",
       "Country           string\n",
       "Competition       string\n",
       "dtype: object"
      ]
     },
     "execution_count": 8,
     "metadata": {},
     "output_type": "execute_result"
    }
   ],
   "source": [
    "df_eng.convert_dtypes().dtypes"
   ]
  },
  {
   "cell_type": "code",
   "execution_count": null,
   "id": "7a2f3bd0",
   "metadata": {
    "papermill": {
     "duration": 0.004842,
     "end_time": "2022-11-07T00:10:15.688177",
     "exception": false,
     "start_time": "2022-11-07T00:10:15.683335",
     "status": "completed"
    },
    "tags": []
   },
   "outputs": [],
   "source": []
  }
 ],
 "metadata": {
  "kernelspec": {
   "display_name": "Python 3",
   "language": "python",
   "name": "python3"
  },
  "language_info": {
   "codemirror_mode": {
    "name": "ipython",
    "version": 3
   },
   "file_extension": ".py",
   "mimetype": "text/x-python",
   "name": "python",
   "nbconvert_exporter": "python",
   "pygments_lexer": "ipython3",
   "version": "3.7.12"
  },
  "papermill": {
   "default_parameters": {},
   "duration": 14.474875,
   "end_time": "2022-11-07T00:10:16.721357",
   "environment_variables": {},
   "exception": null,
   "input_path": "__notebook__.ipynb",
   "output_path": "__notebook__.ipynb",
   "parameters": {},
   "start_time": "2022-11-07T00:10:02.246482",
   "version": "2.3.4"
  }
 },
 "nbformat": 4,
 "nbformat_minor": 5
}
